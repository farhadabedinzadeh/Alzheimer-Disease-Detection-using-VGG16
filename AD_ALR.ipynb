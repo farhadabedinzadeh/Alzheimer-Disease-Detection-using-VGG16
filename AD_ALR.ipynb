{
 "cells": [
  {
   "cell_type": "markdown",
   "metadata": {},
   "source": [
    "# IMPORT ALL REQUIRED LIBRARIES"
   ]
  },
  {
   "cell_type": "code",
   "execution_count": 3,
   "metadata": {
    "execution": {
     "iopub.execute_input": "2022-07-28T18:55:15.235662Z",
     "iopub.status.busy": "2022-07-28T18:55:15.234969Z",
     "iopub.status.idle": "2022-07-28T18:55:35.981135Z",
     "shell.execute_reply": "2022-07-28T18:55:35.979720Z",
     "shell.execute_reply.started": "2022-07-28T18:55:15.235614Z"
    }
   },
   "outputs": [],
   "source": [
    "import os\n",
    "import shutil\n",
    "import glob\n",
    "import json\n",
    "import pickle\n",
    "import time\n",
    "import random\n",
    "import numpy as np\n",
    "import pandas as pd\n",
    "import matplotlib.pyplot as plt\n",
    "import seaborn as sns\n",
    "import cv2\n",
    "import skimage.io as io\n",
    "from skimage.transform import resize\n",
    "\n",
    "from sklearn.preprocessing import MinMaxScaler, Normalizer, StandardScaler, RobustScaler, LabelEncoder, OneHotEncoder\n",
    "from sklearn.model_selection import train_test_split\n",
    "from sklearn.model_selection import KFold, StratifiedKFold, cross_val_score, cross_validate\n",
    "from sklearn.utils import shuffle\n",
    "from sklearn.metrics import (confusion_matrix, classification_report, accuracy_score, f1_score, recall_score, precision_score,\n",
    "                             auc, roc_curve, roc_auc_score, cohen_kappa_score, plot_confusion_matrix, plot_roc_curve,\n",
    "                             plot_precision_recall_curve, precision_recall_fscore_support, precision_recall_curve)\n",
    "from sklearn.utils import compute_class_weight\n",
    "from sklearn.linear_model import LogisticRegression\n",
    "from sklearn.neighbors import KNeighborsClassifier\n",
    "from sklearn.svm import SVC \n",
    "from sklearn.ensemble import RandomForestClassifier, AdaBoostClassifier\n",
    "\n",
    "\n",
    "import tensorflow as tf\n",
    "from tensorflow.keras import backend as K\n",
    "from tensorflow.keras.preprocessing.image import load_img, img_to_array, array_to_img, ImageDataGenerator, save_img\n",
    "from tensorflow.keras.preprocessing import image_dataset_from_directory\n",
    "from tensorflow.keras.models import Sequential, Model, load_model, model_from_json\n",
    "from tensorflow.keras.layers import (Input, InputLayer, Conv2D, MaxPooling2D, Dense, BatchNormalization, Dropout, Activation, GlobalAveragePooling2D, InputSpec, Flatten, Concatenate)\n",
    "from tensorflow.keras.applications.vgg16 import VGG16, preprocess_input\n",
    "from tensorflow.keras.applications.vgg19 import VGG19, preprocess_input\n",
    "from tensorflow.keras.applications.resnet_v2 import ResNet101V2, preprocess_input\n",
    "from tensorflow.keras.callbacks import ReduceLROnPlateau, EarlyStopping, ModelCheckpoint\n",
    "from tensorflow.keras.optimizers import Adam, SGD, RMSprop, Adadelta, Adagrad\n",
    "from tensorflow.keras.losses import CategoricalCrossentropy\n",
    "from tensorflow.keras.utils import to_categorical, plot_model\n",
    "from tensorflow.keras.metrics import Accuracy, AUC, Precision, Recall\n",
    "from tensorflow.keras.wrappers.scikit_learn import KerasClassifier\n",
    "\n",
    "import warnings\n",
    "warnings.filterwarnings(\"ignore\")\n",
    "\n",
    "!pip install tensorflow_addons\n",
    "import tensorflow_addons as tfa"
   ]
  },
  {
   "cell_type": "code",
   "execution_count": 4,
   "metadata": {
    "execution": {
     "iopub.execute_input": "2022-07-28T18:55:35.985724Z",
     "iopub.status.busy": "2022-07-28T18:55:35.984476Z",
     "iopub.status.idle": "2022-07-28T18:55:35.994031Z",
     "shell.execute_reply": "2022-07-28T18:55:35.991435Z",
     "shell.execute_reply.started": "2022-07-28T18:55:35.985645Z"
    }
   },
   "outputs": [],
   "source": [
    "SEED = 42\n",
    "np.random.seed(SEED)\n",
    "random.seed(SEED)\n",
    "tf.random.set_seed(SEED)\n",
    "pd.set_option('display.max_colwidth' , 200)"
   ]
  },
  {
   "cell_type": "markdown",
   "metadata": {},
   "source": [
    "# DATA ANALYSIS"
   ]
  },
  {
   "cell_type": "code",
   "execution_count": 5,
   "metadata": {
    "execution": {
     "iopub.execute_input": "2022-07-28T18:55:35.997152Z",
     "iopub.status.busy": "2022-07-28T18:55:35.996230Z",
     "iopub.status.idle": "2022-07-28T18:55:36.015018Z",
     "shell.execute_reply": "2022-07-28T18:55:36.013818Z",
     "shell.execute_reply.started": "2022-07-28T18:55:35.997110Z"
    }
   },
   "outputs": [],
   "source": [
    "BASE_DIR = \"../input/newdsaug/newds/\"\n",
    "VAL_DIR , TEST_DIR , TRAIN_DIR = [os.path.join(BASE_DIR , sub_dir) for sub_dir in os.listdir(BASE_DIR)]\n",
    "\n",
    "print(TRAIN_DIR)\n",
    "print(VAL_DIR)\n",
    "print(TEST_DIR)"
   ]
  },
  {
   "cell_type": "code",
   "execution_count": 6,
   "metadata": {
    "execution": {
     "iopub.execute_input": "2022-07-28T18:55:36.018890Z",
     "iopub.status.busy": "2022-07-28T18:55:36.017292Z",
     "iopub.status.idle": "2022-07-28T18:55:36.030427Z",
     "shell.execute_reply": "2022-07-28T18:55:36.029049Z",
     "shell.execute_reply.started": "2022-07-28T18:55:36.018848Z"
    }
   },
   "outputs": [],
   "source": [
    "classes = os.listdir(TRAIN_DIR)\n",
    "class2label = {}\n",
    "\n",
    "for i in range(len(classes)):\n",
    "    class2label[classes[i]] = i\n",
    "    \n",
    "label2class = {v:k for k, v in class2label.items()}\n",
    "\n",
    "print(class2label)\n",
    "print(\"--\"*45)\n",
    "print(label2class)"
   ]
  },
  {
   "cell_type": "code",
   "execution_count": 7,
   "metadata": {
    "execution": {
     "iopub.execute_input": "2022-07-28T18:55:36.033414Z",
     "iopub.status.busy": "2022-07-28T18:55:36.032411Z",
     "iopub.status.idle": "2022-07-28T18:55:36.852411Z",
     "shell.execute_reply": "2022-07-28T18:55:36.851197Z",
     "shell.execute_reply.started": "2022-07-28T18:55:36.033372Z"
    }
   },
   "outputs": [],
   "source": [
    "train_distribution = {}\n",
    "print(\"TRAIN-SET DISTRIBUTION\\n\")\n",
    "for cat in classes:\n",
    "    path = os.path.join(TRAIN_DIR, cat, \"*\")\n",
    "    data = glob.glob(path)\n",
    "    print(f\"Number of {cat} Images: {len(data)}\")\n",
    "    train_distribution[cat] = len(data)\n",
    "    print('--'*20)   \n",
    "\n",
    "test_distribution = {}\n",
    "print(\"\\nVAL-SET DISTRIBUTION\\n\")\n",
    "for cat in classes:\n",
    "    path = os.path.join(VAL_DIR, cat, \"*\")\n",
    "    data = glob.glob(path)\n",
    "    print(f\"Number of {cat} Images: {len(data)}\")\n",
    "    test_distribution[cat] = len(data)\n",
    "    print('--'*20)\n",
    "    \n",
    "test_distribution = {}\n",
    "print(\"\\nTEST-SET DISTRIBUTION\\n\")\n",
    "for cat in classes:\n",
    "    path = os.path.join(TEST_DIR, cat, \"*\")\n",
    "    data = glob.glob(path)\n",
    "    print(f\"Number of {cat} Images: {len(data)}\")\n",
    "    test_distribution[cat] = len(data)\n",
    "    print('--'*20)"
   ]
  },
  {
   "cell_type": "code",
   "execution_count": 8,
   "metadata": {
    "execution": {
     "iopub.execute_input": "2022-07-28T18:55:36.854805Z",
     "iopub.status.busy": "2022-07-28T18:55:36.854119Z",
     "iopub.status.idle": "2022-07-28T18:56:14.140681Z",
     "shell.execute_reply": "2022-07-28T18:56:14.139441Z",
     "shell.execute_reply.started": "2022-07-28T18:55:36.854763Z"
    }
   },
   "outputs": [],
   "source": [
    "categories = []\n",
    "image_name = []\n",
    "image_id = []\n",
    "image_format = []\n",
    "labels = []\n",
    "img_path = []\n",
    "img_height = []\n",
    "img_width = []\n",
    "\n",
    "for cat in classes:\n",
    "    path = os.path.join(TRAIN_DIR, cat, \"*\")\n",
    "    data = glob.glob(path)\n",
    "    for i in range(len(data)):\n",
    "        assert not isinstance(data,type(None))\n",
    "        h, w, c = cv2.imread(data[i]).shape\n",
    "        cls , img = data[i].split('/')[-2:]\n",
    "        img_id , img_format = img.split('.')\n",
    "        img_height.append(h)\n",
    "        img_width.append(w)\n",
    "        categories.append(cls)\n",
    "        image_name.append(img)\n",
    "        image_id.append(img_id)\n",
    "        image_format.append(img_format) \n",
    "        labels.append(class2label[cls])\n",
    "        img_path.append(data[i])"
   ]
  },
  {
   "cell_type": "code",
   "execution_count": 9,
   "metadata": {
    "execution": {
     "iopub.execute_input": "2022-07-28T18:56:14.143678Z",
     "iopub.status.busy": "2022-07-28T18:56:14.142904Z",
     "iopub.status.idle": "2022-07-28T18:56:14.151778Z",
     "shell.execute_reply": "2022-07-28T18:56:14.150486Z",
     "shell.execute_reply.started": "2022-07-28T18:56:14.143634Z"
    }
   },
   "outputs": [],
   "source": [
    "assert len(categories) == len(image_name) == len(image_id) == len(image_id) == len(image_format) == len(labels) == len(img_path) == len(img_height) == len(img_width)"
   ]
  },
  {
   "cell_type": "code",
   "execution_count": 10,
   "metadata": {
    "execution": {
     "iopub.execute_input": "2022-07-28T18:56:14.154142Z",
     "iopub.status.busy": "2022-07-28T18:56:14.153705Z",
     "iopub.status.idle": "2022-07-28T18:56:14.212774Z",
     "shell.execute_reply": "2022-07-28T18:56:14.211636Z",
     "shell.execute_reply.started": "2022-07-28T18:56:14.154101Z"
    }
   },
   "outputs": [],
   "source": [
    "data = pd.DataFrame(list(zip(image_id, image_name, image_format, categories, labels, img_path, img_height, img_width)))\n",
    "data.columns = ['image_id' , 'image_name' , 'format' , 'Class' , 'label' , 'image_path' , 'height' , 'width']\n",
    "data.sample(10 , random_state = SEED)"
   ]
  },
  {
   "cell_type": "code",
   "execution_count": 11,
   "metadata": {
    "execution": {
     "iopub.execute_input": "2022-07-28T18:56:14.215197Z",
     "iopub.status.busy": "2022-07-28T18:56:14.214208Z",
     "iopub.status.idle": "2022-07-28T18:56:14.223743Z",
     "shell.execute_reply": "2022-07-28T18:56:14.222312Z",
     "shell.execute_reply.started": "2022-07-28T18:56:14.215155Z"
    }
   },
   "outputs": [],
   "source": [
    "data.shape"
   ]
  },
  {
   "cell_type": "code",
   "execution_count": 12,
   "metadata": {
    "execution": {
     "iopub.execute_input": "2022-07-28T18:56:14.230873Z",
     "iopub.status.busy": "2022-07-28T18:56:14.229995Z",
     "iopub.status.idle": "2022-07-28T18:56:14.246400Z",
     "shell.execute_reply": "2022-07-28T18:56:14.244969Z",
     "shell.execute_reply.started": "2022-07-28T18:56:14.230833Z"
    }
   },
   "outputs": [],
   "source": [
    "data['Class'].value_counts()"
   ]
  },
  {
   "cell_type": "code",
   "execution_count": 13,
   "metadata": {
    "execution": {
     "iopub.execute_input": "2022-07-28T18:56:14.248967Z",
     "iopub.status.busy": "2022-07-28T18:56:14.248397Z",
     "iopub.status.idle": "2022-07-28T18:56:14.278588Z",
     "shell.execute_reply": "2022-07-28T18:56:14.277264Z",
     "shell.execute_reply.started": "2022-07-28T18:56:14.248913Z"
    }
   },
   "outputs": [],
   "source": [
    "if data.isnull().sum().sum() == 0:\n",
    "    print('No Null Values found in dataset')\n",
    "else:\n",
    "    print(f'{data.isnull().sum().sum()} null values found in dataset')\n",
    "\n",
    "# checking for any duplicate values\n",
    "if data.duplicated().sum() == 0:\n",
    "    print('No Duplicate Values found in dataset')\n",
    "else:\n",
    "    print(f'{data.duplicated().sum()} Duplicate values found in dataset')"
   ]
  },
  {
   "cell_type": "markdown",
   "metadata": {},
   "source": [
    "# plot figures - image information"
   ]
  },
  {
   "cell_type": "code",
   "execution_count": 14,
   "metadata": {
    "execution": {
     "iopub.execute_input": "2022-07-28T18:56:14.281215Z",
     "iopub.status.busy": "2022-07-28T18:56:14.280377Z",
     "iopub.status.idle": "2022-07-28T18:56:14.549988Z",
     "shell.execute_reply": "2022-07-28T18:56:14.548742Z",
     "shell.execute_reply.started": "2022-07-28T18:56:14.281175Z"
    }
   },
   "outputs": [],
   "source": [
    "plt.figure(figsize=(8, 8))\n",
    "\n",
    "sns.countplot(data = data , x = 'Class' , order = data['Class'].value_counts().index)\n",
    "sns.despine(top=True, right=True, left=True, bottom=False)\n",
    "\n",
    "plt.xticks(ticks= [0,1,2,3], labels=data['Class'].value_counts().index.to_list(), fontsize=12, rotation=340)\n",
    "plt.yticks([])\n",
    "plt.title('Number of Samples per Class' , fontsize=15 , pad=20 , fontstyle='italic' , fontweight = 800)\n",
    "plt.xlabel('Type of Diagnosis' , fontsize=14 , fontweight=400, labelpad=16)\n",
    "plt.ylabel('')\n",
    "ax = plt.gca()\n",
    "\n",
    "for p in ax.patches:\n",
    "    ax.annotate(\"%.1f%%\" % (100*float(p.get_height()/data.shape[0])), (p.get_x() + p.get_width() / 2., abs(p.get_height())), ha='center', \n",
    "                va='bottom', color='black', xytext=(0,2), rotation='horizontal', textcoords='offset points', fontsize = 12, fontstyle = 'italic')\n",
    "\n",
    "#plt.savefig(\"samples.png\",dpi=720)\n",
    "plt.tight_layout()"
   ]
  },
  {
   "cell_type": "code",
   "execution_count": 15,
   "metadata": {
    "execution": {
     "iopub.execute_input": "2022-07-28T18:56:14.552968Z",
     "iopub.status.busy": "2022-07-28T18:56:14.551760Z",
     "iopub.status.idle": "2022-07-28T18:56:19.877575Z",
     "shell.execute_reply": "2022-07-28T18:56:19.875589Z",
     "shell.execute_reply.started": "2022-07-28T18:56:14.552911Z"
    }
   },
   "outputs": [],
   "source": [
    "sample_data = data.sample(12 , random_state = SEED)\n",
    "sample_imgs = sample_data['image_path'].to_list()\n",
    "\n",
    "plt.figure(figsize = (12,12))\n",
    "for i in range(12):\n",
    "    plt.subplot(4 , 3 , i+1)\n",
    "    img = cv2.imread(sample_imgs[i])\n",
    "    plt.title(sample_imgs[i].split('/')[-2], fontsize = 12)\n",
    "    plt.axis('off')\n",
    "    plt.imshow(img)\n",
    "    \n",
    "plt.savefig(\"brainPlots.png\",dpi=720)"
   ]
  },
  {
   "cell_type": "code",
   "execution_count": 16,
   "metadata": {
    "execution": {
     "iopub.execute_input": "2022-07-28T18:56:19.881649Z",
     "iopub.status.busy": "2022-07-28T18:56:19.881122Z",
     "iopub.status.idle": "2022-07-28T18:56:19.894132Z",
     "shell.execute_reply": "2022-07-28T18:56:19.892203Z",
     "shell.execute_reply.started": "2022-07-28T18:56:19.881604Z"
    }
   },
   "outputs": [],
   "source": [
    "print('Shape of the image : {}'.format(img.shape))\n",
    "print('Image Height: {}'.format(img.shape[0]))\n",
    "print('Image Width: {}'.format(img.shape[1]))\n",
    "print('Image Dimensions/Channels: {}'.format(img.ndim))\n",
    "print(\"==\"*20)\n",
    "print('Image size: {}'.format(img.size))\n",
    "print('Image Data Type: {}'.format(img.dtype))\n",
    "print(\"==\"*20)\n",
    "print('Maximum RGB value in this image {}'.format(img.max()))\n",
    "print('Minimum RGB value in this image {}'.format(img.min()))"
   ]
  },
  {
   "cell_type": "code",
   "execution_count": 17,
   "metadata": {
    "execution": {
     "iopub.execute_input": "2022-07-28T18:56:19.898591Z",
     "iopub.status.busy": "2022-07-28T18:56:19.897044Z",
     "iopub.status.idle": "2022-07-28T18:56:36.782755Z",
     "shell.execute_reply": "2022-07-28T18:56:36.781570Z",
     "shell.execute_reply.started": "2022-07-28T18:56:19.898531Z"
    }
   },
   "outputs": [],
   "source": [
    "mean_val = []\n",
    "std_val = []\n",
    "max_val = []\n",
    "min_val = []\n",
    "\n",
    "for i in range(data.shape[0]):\n",
    "    img_arr = img_to_array(load_img(data['image_path'][i]))\n",
    "    mean_val.append(img_arr.mean())\n",
    "    std_val.append(img_arr.std())\n",
    "    max_val.append(img_arr.max())\n",
    "    min_val.append(img_arr.min())\n",
    "\n",
    "data['mean_pixel'] = mean_val\n",
    "data['std_dev'] = std_val\n",
    "data['max_pixel'] = max_val\n",
    "data['min_pixel'] = min_val"
   ]
  },
  {
   "cell_type": "code",
   "execution_count": 18,
   "metadata": {
    "execution": {
     "iopub.execute_input": "2022-07-28T18:56:36.786197Z",
     "iopub.status.busy": "2022-07-28T18:56:36.785286Z",
     "iopub.status.idle": "2022-07-28T18:56:36.815570Z",
     "shell.execute_reply": "2022-07-28T18:56:36.814178Z",
     "shell.execute_reply.started": "2022-07-28T18:56:36.786154Z"
    }
   },
   "outputs": [],
   "source": [
    "data['mean_variation'] = data['mean_pixel'].mean() - data['mean_pixel']\n",
    "data.sample(10)"
   ]
  },
  {
   "cell_type": "code",
   "execution_count": 19,
   "metadata": {
    "execution": {
     "iopub.execute_input": "2022-07-28T18:56:36.817889Z",
     "iopub.status.busy": "2022-07-28T18:56:36.817370Z",
     "iopub.status.idle": "2022-07-28T18:56:37.130895Z",
     "shell.execute_reply": "2022-07-28T18:56:37.129677Z",
     "shell.execute_reply.started": "2022-07-28T18:56:36.817850Z"
    }
   },
   "outputs": [],
   "source": [
    "plt.figure(figsize = (8,5))\n",
    "sns.violinplot(y = 'mean_pixel' , data = data , x = 'Class')\n",
    "sns.despine()\n",
    "plt.xticks(rotation=340)\n",
    "plt.title('Mean value distribution for all Classes')\n",
    "#plt.savefig(\"meanValue.png\",dpi=720)\n",
    "plt.show()"
   ]
  },
  {
   "cell_type": "code",
   "execution_count": 20,
   "metadata": {
    "execution": {
     "iopub.execute_input": "2022-07-28T18:56:37.133725Z",
     "iopub.status.busy": "2022-07-28T18:56:37.132950Z",
     "iopub.status.idle": "2022-07-28T18:56:37.495556Z",
     "shell.execute_reply": "2022-07-28T18:56:37.494360Z",
     "shell.execute_reply.started": "2022-07-28T18:56:37.133682Z"
    }
   },
   "outputs": [],
   "source": [
    "plt.figure(figsize = (12, 8))\n",
    "sns.kdeplot(data = data , x = 'mean_pixel' , hue = 'Class' , shade = True , linewidth = 2.5)\n",
    "plt.title('Image color mean value distribution')\n",
    "#plt.savefig(\"colorMean.png\",dpi=720)\n",
    "plt.show()"
   ]
  },
  {
   "cell_type": "code",
   "execution_count": 21,
   "metadata": {
    "execution": {
     "iopub.execute_input": "2022-07-28T18:56:37.497914Z",
     "iopub.status.busy": "2022-07-28T18:56:37.497177Z",
     "iopub.status.idle": "2022-07-28T18:56:37.804812Z",
     "shell.execute_reply": "2022-07-28T18:56:37.803555Z",
     "shell.execute_reply.started": "2022-07-28T18:56:37.497869Z"
    }
   },
   "outputs": [],
   "source": [
    "plt.figure(figsize = (8,5))\n",
    "sns.kdeplot(data = data , x = 'max_pixel', hue='Class' , linewidth = 2.5)\n",
    "plt.title('Image color max value distribution by class')\n",
    "#plt.savefig(\"ImagecolorMaxValueDistribution.png\",dpi=720)\n",
    "plt.show()"
   ]
  },
  {
   "cell_type": "code",
   "execution_count": 22,
   "metadata": {
    "execution": {
     "iopub.execute_input": "2022-07-28T18:56:37.807142Z",
     "iopub.status.busy": "2022-07-28T18:56:37.806745Z",
     "iopub.status.idle": "2022-07-28T18:56:39.420335Z",
     "shell.execute_reply": "2022-07-28T18:56:39.418464Z",
     "shell.execute_reply.started": "2022-07-28T18:56:37.807102Z"
    }
   },
   "outputs": [],
   "source": [
    "sns.set(rc={'figure.figsize':(16,8)})\n",
    "fig = sns.relplot(data=data, x=\"mean_pixel\", y=data['std_dev'],alpha=0.8, kind='scatter',col='Class');\n",
    "sns.despine(top=True, right=True, left=False, bottom=False)\n",
    "\n",
    "plt.suptitle('Mean and Standard Deviation of Image Samples', fontsize = 16 , fontweight = 550)\n",
    "fig.tight_layout(pad=3);\n",
    "#plt.savefig(\"MeanAndStdOfImageSamples.png\",dpi=720)\n"
   ]
  },
  {
   "cell_type": "code",
   "execution_count": 23,
   "metadata": {
    "execution": {
     "iopub.execute_input": "2022-07-28T18:56:39.423362Z",
     "iopub.status.busy": "2022-07-28T18:56:39.422492Z",
     "iopub.status.idle": "2022-07-28T18:56:40.333786Z",
     "shell.execute_reply": "2022-07-28T18:56:40.332578Z",
     "shell.execute_reply.started": "2022-07-28T18:56:39.423317Z"
    }
   },
   "outputs": [],
   "source": [
    "plt.figure(figsize=(20,8))\n",
    "sns.set(style=\"ticks\", font_scale = 1)\n",
    "ax = sns.scatterplot(data=data, x=\"mean_pixel\", y=data['std_dev'], hue = 'Class',alpha=0.8);\n",
    "sns.despine(top=True, right=True, left=False, bottom=False)\n",
    "plt.xticks(rotation=0,fontsize = 12)\n",
    "ax.set_xlabel('Image Channel Colour Mean',fontsize = 14,weight = 'bold')\n",
    "ax.set_ylabel('Image Channel Colour Standard Deviation',fontsize = 14,weight = 'bold')\n",
    "plt.title('Mean and Standard Deviation of Image Samples', fontsize = 16,weight = 'bold');\n",
    "#plt.savefig(\"MeanAndStdOfImages2.png\",dpi=720)\n"
   ]
  },
  {
   "cell_type": "markdown",
   "metadata": {},
   "source": [
    "# Hyperparameters and Model Training"
   ]
  },
  {
   "cell_type": "code",
   "execution_count": 24,
   "metadata": {
    "execution": {
     "iopub.execute_input": "2022-07-28T18:56:40.336791Z",
     "iopub.status.busy": "2022-07-28T18:56:40.335514Z",
     "iopub.status.idle": "2022-07-28T18:56:40.343381Z",
     "shell.execute_reply": "2022-07-28T18:56:40.341986Z",
     "shell.execute_reply.started": "2022-07-28T18:56:40.336749Z"
    }
   },
   "outputs": [],
   "source": [
    "BATCH_SIZE = 64\n",
    "NUM_EPOCHS = 75\n",
    "IMG_SIZE = (224,224)\n",
    "INPUT_SHAPE = (224,224,3)"
   ]
  },
  {
   "cell_type": "code",
   "execution_count": 25,
   "metadata": {
    "execution": {
     "iopub.execute_input": "2022-07-28T18:56:40.347026Z",
     "iopub.status.busy": "2022-07-28T18:56:40.345320Z",
     "iopub.status.idle": "2022-07-28T18:56:40.356748Z",
     "shell.execute_reply": "2022-07-28T18:56:40.355460Z",
     "shell.execute_reply.started": "2022-07-28T18:56:40.346984Z"
    }
   },
   "outputs": [],
   "source": [
    "train_datagen = ImageDataGenerator(rescale = 1./255,\n",
    "                                   horizontal_flip = True,\n",
    "                                   brightness_range = [0.6, 1.4],\n",
    "                                   rotation_range = 15)\n",
    "\n",
    "val_datagen = ImageDataGenerator(rescale = 1./255)\n",
    "\n",
    "test_datagen  = ImageDataGenerator(rescale = 1./255)"
   ]
  },
  {
   "cell_type": "code",
   "execution_count": 26,
   "metadata": {
    "execution": {
     "iopub.execute_input": "2022-07-28T18:56:40.359344Z",
     "iopub.status.busy": "2022-07-28T18:56:40.358619Z",
     "iopub.status.idle": "2022-07-28T18:56:42.391939Z",
     "shell.execute_reply": "2022-07-28T18:56:42.390324Z",
     "shell.execute_reply.started": "2022-07-28T18:56:40.359300Z"
    }
   },
   "outputs": [],
   "source": [
    "train_dataset  = train_datagen.flow_from_directory(directory = TRAIN_DIR,\n",
    "                                                   target_size = IMG_SIZE,\n",
    "                                                   color_mode = \"rgb\",\n",
    "                                                   class_mode = \"categorical\",\n",
    "                                                   batch_size = BATCH_SIZE,\n",
    "                                                   interpolation = \"bicubic\" ,\n",
    "                                                   shuffle = True)    \n",
    "\n",
    "val_dataset = val_datagen.flow_from_directory(directory = VAL_DIR,\n",
    "                                               target_size = IMG_SIZE,\n",
    "                                               color_mode = \"rgb\",\n",
    "                                               class_mode = \"categorical\",\n",
    "                                               batch_size = BATCH_SIZE,\n",
    "                                               interpolation = \"bicubic\")\n",
    "\n",
    "test_dataset = test_datagen.flow_from_directory(directory = TEST_DIR,\n",
    "                                               target_size = IMG_SIZE,\n",
    "                                               color_mode = \"rgb\",\n",
    "                                               class_mode = \"categorical\",\n",
    "                                               batch_size = BATCH_SIZE,\n",
    "                                               interpolation = \"bicubic\",\n",
    "                                               shuffle = False)"
   ]
  },
  {
   "cell_type": "code",
   "execution_count": 27,
   "metadata": {
    "execution": {
     "iopub.execute_input": "2022-07-28T18:56:42.394715Z",
     "iopub.status.busy": "2022-07-28T18:56:42.393934Z",
     "iopub.status.idle": "2022-07-28T18:56:42.402418Z",
     "shell.execute_reply": "2022-07-28T18:56:42.400840Z",
     "shell.execute_reply.started": "2022-07-28T18:56:42.394672Z"
    }
   },
   "outputs": [],
   "source": [
    "print('Number of batch iterations on training data' , len(train_dataset))\n",
    "print('Number of batch iterations on validation data' , len(val_dataset))\n",
    "print('Number of batch iterations on test data' , len(test_dataset))"
   ]
  },
  {
   "cell_type": "code",
   "execution_count": 28,
   "metadata": {
    "execution": {
     "iopub.execute_input": "2022-07-28T18:57:02.236834Z",
     "iopub.status.busy": "2022-07-28T18:57:02.236415Z",
     "iopub.status.idle": "2022-07-28T18:57:02.244106Z",
     "shell.execute_reply": "2022-07-28T18:57:02.242628Z",
     "shell.execute_reply.started": "2022-07-28T18:57:02.236804Z"
    }
   },
   "outputs": [],
   "source": [
    "label2class = train_dataset.class_indices\n",
    "class2label = {v:k for (k,v) in train_dataset.class_indices.items()}\n",
    "\n",
    "print(label2class)\n",
    "print(class2label)"
   ]
  },
  {
   "cell_type": "code",
   "execution_count": 29,
   "metadata": {
    "execution": {
     "iopub.execute_input": "2022-07-28T18:57:09.677971Z",
     "iopub.status.busy": "2022-07-28T18:57:09.677570Z",
     "iopub.status.idle": "2022-07-28T18:57:09.685071Z",
     "shell.execute_reply": "2022-07-28T18:57:09.683619Z",
     "shell.execute_reply.started": "2022-07-28T18:57:09.677942Z"
    }
   },
   "outputs": [],
   "source": [
    "os.mkdir(\"./temp/\")\n",
    "checkpoint_filepath = \"./temp/\""
   ]
  },
  {
   "cell_type": "code",
   "execution_count": 38,
   "metadata": {
    "execution": {
     "iopub.execute_input": "2022-07-28T20:00:28.789058Z",
     "iopub.status.busy": "2022-07-28T20:00:28.788365Z",
     "iopub.status.idle": "2022-07-28T20:00:47.343778Z",
     "shell.execute_reply": "2022-07-28T20:00:47.342567Z",
     "shell.execute_reply.started": "2022-07-28T20:00:28.789023Z"
    }
   },
   "outputs": [],
   "source": [
    "optimizer = SGD(learning_rate=0.001, momentum=0.9, nesterov=True, decay=1e-6)\n",
    "metrics = [\"accuracy\", Recall(), Precision(), AUC()]\n",
    "\n",
    "#early_stop = EarlyStopping(monitor='val_loss', patience=8, mode='min', verbose=1)\n",
    "checkpoint = ModelCheckpoint(filepath=checkpoint_filepath, monitor=\"val_loss\", verbose=1, save_best_only=True, mode=\"min\")\n",
    "lr_reduction = ReduceLROnPlateau(monitor=\"val_loss\", factor=0.1, patience=5, verbose=1, mode=\"auto\")\n",
    "callbacks_list = [lr_reduction, checkpoint]"
   ]
  },
  {
   "cell_type": "code",
   "execution_count": 39,
   "metadata": {
    "execution": {
     "iopub.execute_input": "2022-07-28T20:00:51.936443Z",
     "iopub.status.busy": "2022-07-28T20:00:51.935700Z",
     "iopub.status.idle": "2022-07-28T20:00:51.946405Z",
     "shell.execute_reply": "2022-07-28T20:00:51.945092Z",
     "shell.execute_reply.started": "2022-07-28T20:00:51.936411Z"
    }
   },
   "outputs": [],
   "source": [
    "def categorical_focal_loss(gamma=2.0, alpha=0.25):\n",
    "    \"\"\"\n",
    "    Implementation of Focal Loss from the paper in multiclass classification\n",
    "    Formula:\n",
    "        loss = -alpha*((1-p)^gamma)*log(p)\n",
    "    Parameters:\n",
    "        alpha -- the same as wighting factor in balanced cross entropy\n",
    "        gamma -- focusing parameter for modulating factor (1-p)\n",
    "    Default value:\n",
    "        gamma -- 2.0 as mentioned in the paper\n",
    "        alpha -- 0.25 as mentioned in the paper\n",
    "    \"\"\"\n",
    "    def focal_loss(y_true, y_pred):\n",
    "        # Define epsilon so that the backpropagation will not result in NaN\n",
    "        # for 0 divisor case\n",
    "        epsilon = K.epsilon()\n",
    "        # Add the epsilon to prediction value\n",
    "        #y_pred = y_pred + epsilon\n",
    "        # Clip the prediction value\n",
    "        y_pred = K.clip(y_pred, epsilon, 1.0-epsilon)\n",
    "        # Calculate cross entropy\n",
    "        cross_entropy = -y_true*K.log(y_pred)\n",
    "        # Calculate weight that consists of  modulating factor and weighting factor\n",
    "        weight = alpha * y_true * K.pow((1-y_pred), gamma)\n",
    "        # Calculate focal loss\n",
    "        loss = weight * cross_entropy\n",
    "        # Sum the losses in mini_batch\n",
    "        loss = K.sum(loss, axis=1)\n",
    "        return loss\n",
    "    \n",
    "    return focal_loss"
   ]
  },
  {
   "cell_type": "markdown",
   "metadata": {},
   "source": [
    "# VGG16"
   ]
  },
  {
   "cell_type": "code",
   "execution_count": 41,
   "metadata": {
    "execution": {
     "iopub.execute_input": "2022-07-28T20:01:03.995227Z",
     "iopub.status.busy": "2022-07-28T20:01:03.994857Z",
     "iopub.status.idle": "2022-07-28T20:01:04.383290Z",
     "shell.execute_reply": "2022-07-28T20:01:04.382062Z",
     "shell.execute_reply.started": "2022-07-28T20:01:03.995199Z"
    }
   },
   "outputs": [],
   "source": [
    "base_model = VGG16(input_shape=(224, 224, 3), include_top=False, weights=\"imagenet\")\n",
    "x = base_model.output\n",
    "x = Dropout(0.25)(x)\n",
    "x = Flatten()(x)\n",
    "\n",
    "x = Dense(4096, kernel_initializer='he_uniform')(x)\n",
    "x = Activation('relu')(x)\n",
    "x = Dropout(0.25)(x)\n",
    "x = Dense(4096, kernel_initializer='he_uniform')(x)\n",
    "x = Activation('relu')(x)\n",
    "x = Dropout(0.25)(x)\n",
    "\n",
    "x = Dense(1000, kernel_initializer='he_uniform')(x)\n",
    "x = Activation('relu')(x)\n",
    "x = Dropout(0.25)(x)\n",
    "\n",
    "output = Dense(4, activation='softmax')(x)\n",
    "model = Model(inputs=base_model.input, outputs=output, name=\"VGG16_Network\")"
   ]
  },
  {
   "cell_type": "code",
   "execution_count": 42,
   "metadata": {
    "execution": {
     "iopub.execute_input": "2022-07-28T20:01:07.482984Z",
     "iopub.status.busy": "2022-07-28T20:01:07.482605Z",
     "iopub.status.idle": "2022-07-28T20:01:07.493654Z",
     "shell.execute_reply": "2022-07-28T20:01:07.492265Z",
     "shell.execute_reply.started": "2022-07-28T20:01:07.482955Z"
    }
   },
   "outputs": [],
   "source": [
    "model.summary()"
   ]
  },
  {
   "cell_type": "code",
   "execution_count": 34,
   "metadata": {
    "execution": {
     "iopub.execute_input": "2022-07-28T18:58:22.168246Z",
     "iopub.status.busy": "2022-07-28T18:58:22.167883Z",
     "iopub.status.idle": "2022-07-28T18:58:25.956994Z",
     "shell.execute_reply": "2022-07-28T18:58:25.955694Z",
     "shell.execute_reply.started": "2022-07-28T18:58:22.168217Z"
    }
   },
   "outputs": [],
   "source": [
    "plot_model(model, 'finalModel.png', show_shapes=False,dpi=720)\n"
   ]
  },
  {
   "cell_type": "code",
   "execution_count": 43,
   "metadata": {
    "execution": {
     "iopub.execute_input": "2022-07-28T20:01:22.522052Z",
     "iopub.status.busy": "2022-07-28T20:01:22.521619Z",
     "iopub.status.idle": "2022-07-28T20:01:22.541719Z",
     "shell.execute_reply": "2022-07-28T20:01:22.539623Z",
     "shell.execute_reply.started": "2022-07-28T20:01:22.522023Z"
    }
   },
   "outputs": [],
   "source": [
    "model.compile(optimizer = optimizer, loss = \"categorical_crossentropy\", metrics = metrics)"
   ]
  },
  {
   "cell_type": "code",
   "execution_count": 44,
   "metadata": {
    "execution": {
     "iopub.execute_input": "2022-07-28T20:01:25.624256Z",
     "iopub.status.busy": "2022-07-28T20:01:25.623791Z",
     "iopub.status.idle": "2022-07-28T23:38:17.257792Z",
     "shell.execute_reply": "2022-07-28T23:38:17.256572Z",
     "shell.execute_reply.started": "2022-07-28T20:01:25.624226Z"
    }
   },
   "outputs": [],
   "source": [
    "hist = model.fit(x=train_dataset, epochs=NUM_EPOCHS, callbacks=[callbacks_list], steps_per_epoch=len(train_dataset),\n",
    "                 validation_data=val_dataset, validation_steps=len(val_dataset))"
   ]
  },
  {
   "cell_type": "code",
   "execution_count": 47,
   "metadata": {
    "execution": {
     "iopub.execute_input": "2022-07-28T23:39:28.155248Z",
     "iopub.status.busy": "2022-07-28T23:39:28.154873Z",
     "iopub.status.idle": "2022-07-28T23:39:28.168266Z",
     "shell.execute_reply": "2022-07-28T23:39:28.166598Z",
     "shell.execute_reply.started": "2022-07-28T23:39:28.155220Z"
    }
   },
   "outputs": [],
   "source": [
    "metricsEval = list(hist.history.keys())\n",
    "print(metricsEval , '\\n')\n",
    "\n",
    "historyDF = pd.DataFrame(hist.history)\n",
    "historyDF.head()\n",
    "historyDF.to_csv('mycsvfile.csv',index=False)"
   ]
  },
  {
   "cell_type": "code",
   "execution_count": 49,
   "metadata": {
    "execution": {
     "iopub.execute_input": "2022-07-28T23:41:42.383446Z",
     "iopub.status.busy": "2022-07-28T23:41:42.382939Z",
     "iopub.status.idle": "2022-07-28T23:41:55.342946Z",
     "shell.execute_reply": "2022-07-28T23:41:55.341681Z",
     "shell.execute_reply.started": "2022-07-28T23:41:42.383415Z"
    }
   },
   "outputs": [],
   "source": [
    "fig, axarr = plt.subplots(1,3, figsize=(21, 8), sharex=True)\n",
    "\n",
    "sns.set(style=\"ticks\", font_scale = 1)\n",
    "sns.despine(top=True, right=True, left=False, bottom=False)\n",
    "\n",
    "ax = sns.lineplot(x = historyDF.index, y = hist.history[metricsEval[0]], ax=axarr[0], label=\"Training\");\n",
    "ax = sns.lineplot(x = historyDF.index, y = hist.history[metricsEval[5]], ax=axarr[0], label=\"Validation\");\n",
    "ax.set_ylabel('Loss')\n",
    "\n",
    "ax = sns.lineplot(x = historyDF.index, y = hist.history[metricsEval[1]], ax=axarr[1], label=\"Training\");\n",
    "ax = sns.lineplot(x = historyDF.index, y = hist.history[metricsEval[6]], ax=axarr[1], label=\"Validation\");\n",
    "ax.set_ylabel('Accuracy')\n",
    "\n",
    "ax = sns.lineplot(x = historyDF.index, y = hist.history[metricsEval[10]], ax=axarr[2]);\n",
    "ax.set_ylabel('Learning Rate')\n",
    "\n",
    "axarr[0].set_title('Training and Validation Loss', fontsize=17)\n",
    "axarr[1].set_title('Training and Validation Accuracy', fontsize=17)\n",
    "axarr[2].set_title('LR during training', fontsize=17)\n",
    "\n",
    "for ax in axarr:\n",
    "    ax.set_xlabel('Epochs')\n",
    "\n",
    "plt.suptitle('Training and Validation Performance plots', fontsize=19, weight='bold');\n",
    "fig.tight_layout(pad=3.0)\n",
    "plt.savefig(\"TR-val_auto.png\",dpi=1080)\n",
    "plt.show()\n"
   ]
  },
  {
   "cell_type": "code",
   "execution_count": 51,
   "metadata": {
    "execution": {
     "iopub.execute_input": "2022-07-28T23:43:24.440346Z",
     "iopub.status.busy": "2022-07-28T23:43:24.439479Z",
     "iopub.status.idle": "2022-07-28T23:43:37.084411Z",
     "shell.execute_reply": "2022-07-28T23:43:37.083045Z",
     "shell.execute_reply.started": "2022-07-28T23:43:24.440297Z"
    }
   },
   "outputs": [],
   "source": [
    "fig, axarr = plt.subplots(1,3, figsize=(21, 8), sharex=True)\n",
    "\n",
    "sns.set(style=\"ticks\", font_scale = 1)\n",
    "sns.despine(top=True, right=True, left=False, bottom=False)\n",
    "\n",
    "ax = sns.lineplot(x = historyDF.index, y = hist.history[metricsEval[3]], ax=axarr[0], label=\"Training\");\n",
    "ax = sns.lineplot(x = historyDF.index, y = hist.history[metricsEval[8]], ax=axarr[0], label=\"Validation\");\n",
    "ax.set_ylabel('Precision')\n",
    "\n",
    "ax = sns.lineplot(x = historyDF.index, y = hist.history[metricsEval[2]], ax=axarr[1], label=\"Training\");\n",
    "ax = sns.lineplot(x = historyDF.index, y = hist.history[metricsEval[7]], ax=axarr[1], label=\"Validation\");\n",
    "ax.set_ylabel('Recall')\n",
    "\n",
    "ax = sns.lineplot(x = historyDF.index, y = hist.history[metricsEval[4]], ax=axarr[2], label=\"Training\");\n",
    "ax = sns.lineplot(x = historyDF.index, y = hist.history[metricsEval[9]], ax=axarr[2], label=\"Validation\");\n",
    "ax.set_ylabel('AUC')\n",
    "\n",
    "axarr[0].set_title('Training and Validation Precision', fontsize=17)\n",
    "axarr[1].set_title('Training and Validation Recall', fontsize=17)\n",
    "axarr[2].set_title('Training and Validation AUC', fontsize=17)\n",
    "\n",
    "for ax in axarr:\n",
    "    ax.set_xlabel('Epochs')\n",
    "\n",
    "plt.suptitle('Training and Validation Performance plots', fontsize=19, weight='bold');\n",
    "fig.tight_layout(pad=3.0)\n",
    "plt.savefig(\"metrics_auto.png\",dpi=1080)\n",
    "plt.show()"
   ]
  },
  {
   "cell_type": "code",
   "execution_count": 52,
   "metadata": {
    "execution": {
     "iopub.execute_input": "2022-07-28T23:44:17.839861Z",
     "iopub.status.busy": "2022-07-28T23:44:17.839479Z",
     "iopub.status.idle": "2022-07-28T23:47:40.716368Z",
     "shell.execute_reply": "2022-07-28T23:47:40.714741Z",
     "shell.execute_reply.started": "2022-07-28T23:44:17.839833Z"
    }
   },
   "outputs": [],
   "source": [
    "loss , acc , recall , precision , auc = model.evaluate(train_dataset)\n",
    "print(\"\\n---------------- Evaluation on Train DataSet ----------------\\n\")\n",
    "print(f'Loss on Train set: {loss:.4f}')\n",
    "print(f'Accuracy on Train set: {acc*100:.2f}%')\n",
    "print(f'Recall on Train set: {recall:.2f}')\n",
    "print(f'Precision on Train set: {precision:.2f}')\n",
    "print(f'AUC on Train set: {auc:.2f}')"
   ]
  },
  {
   "cell_type": "code",
   "execution_count": 53,
   "metadata": {
    "execution": {
     "iopub.execute_input": "2022-07-28T23:48:02.724319Z",
     "iopub.status.busy": "2022-07-28T23:48:02.723922Z",
     "iopub.status.idle": "2022-07-28T23:48:11.876493Z",
     "shell.execute_reply": "2022-07-28T23:48:11.875025Z",
     "shell.execute_reply.started": "2022-07-28T23:48:02.724290Z"
    }
   },
   "outputs": [],
   "source": [
    "loss , acc , recall , precision , auc = model.evaluate(val_dataset)\n",
    "print(\"\\n---------------- Evaluation on Validation DataSet ----------------\\n\")\n",
    "print(f'Loss on Validation set: {loss:.2f}')\n",
    "print(f'Accuracy on Validation set: {acc*100:.2f}%')\n",
    "print(f'Recall on Validation set: {recall:.2f}')\n",
    "print(f'Precision on Validation set: {precision:.2f}')\n",
    "print(f'AUC on Validation set: {auc:.2f}')"
   ]
  },
  {
   "cell_type": "code",
   "execution_count": 54,
   "metadata": {
    "execution": {
     "iopub.execute_input": "2022-07-28T23:48:33.593073Z",
     "iopub.status.busy": "2022-07-28T23:48:33.592724Z",
     "iopub.status.idle": "2022-07-28T23:49:16.181520Z",
     "shell.execute_reply": "2022-07-28T23:49:16.180057Z",
     "shell.execute_reply.started": "2022-07-28T23:48:33.593046Z"
    }
   },
   "outputs": [],
   "source": [
    "loss , acc , recall , precision , auc = model.evaluate(test_dataset)\n",
    "print(\"\\n---------------- Evaluation on Test DataSet ----------------\\n\")\n",
    "print(f'Loss on Test set: {loss:.2f}')\n",
    "print(f'Accuracy on Test set: {acc*100:.2f}%')\n",
    "print(f'Recall on Test set: {recall:.2f}')\n",
    "print(f'Precision on Test set: {precision:.2f}')\n",
    "print(f'AUC on Test set: {auc:.2f}')"
   ]
  },
  {
   "cell_type": "code",
   "execution_count": 55,
   "metadata": {
    "execution": {
     "iopub.execute_input": "2022-07-28T23:49:30.786455Z",
     "iopub.status.busy": "2022-07-28T23:49:30.786022Z",
     "iopub.status.idle": "2022-07-28T23:49:36.433824Z",
     "shell.execute_reply": "2022-07-28T23:49:36.432358Z",
     "shell.execute_reply.started": "2022-07-28T23:49:30.786415Z"
    }
   },
   "outputs": [],
   "source": [
    "y_pred = model.predict(test_dataset)\n",
    "predictions = np.array(list(map(lambda x: np.argmax(x), y_pred)))\n",
    "y_true = test_dataset.classes\n",
    "cr_indexes = list(class2label.keys())\n",
    "classes = list(class2label.values())\n",
    "print(classification_report(y_true, predictions, labels = cr_indexes, target_names = classes))"
   ]
  },
  {
   "cell_type": "code",
   "execution_count": 60,
   "metadata": {
    "execution": {
     "iopub.execute_input": "2022-07-28T23:54:05.005745Z",
     "iopub.status.busy": "2022-07-28T23:54:05.005285Z",
     "iopub.status.idle": "2022-07-28T23:54:09.850619Z",
     "shell.execute_reply": "2022-07-28T23:54:09.849369Z",
     "shell.execute_reply.started": "2022-07-28T23:54:05.005715Z"
    }
   },
   "outputs": [],
   "source": [
    "CMatrix = pd.DataFrame(confusion_matrix(y_true, predictions), columns = classes, index = classes)\n",
    "\n",
    "plt.figure(figsize=(10, 6))\n",
    "ax = sns.heatmap(CMatrix, annot = True, fmt = 'g' ,vmin = 0, vmax = 250,cmap = 'YlGnBu')\n",
    "ax.set_xlabel('Predicted',fontsize = 14,weight = 'bold')\n",
    "ax.set_xticklabels(ax.get_xticklabels(),rotation =0);\n",
    "ax.set_ylabel('Actual',fontsize = 14,weight = 'bold') \n",
    "ax.set_yticklabels(ax.get_yticklabels(),rotation =0);\n",
    "ax.set_title('Confusion Matrix - Test Set', fontsize = 19, weight = 'bold', pad=20);\n",
    "plt.savefig(\"confusion_matrix.png\",dpi=1080)"
   ]
  },
  {
   "cell_type": "code",
   "execution_count": 61,
   "metadata": {
    "execution": {
     "iopub.execute_input": "2022-07-28T23:54:26.914574Z",
     "iopub.status.busy": "2022-07-28T23:54:26.913395Z",
     "iopub.status.idle": "2022-07-28T23:54:27.462382Z",
     "shell.execute_reply": "2022-07-28T23:54:27.460951Z",
     "shell.execute_reply.started": "2022-07-28T23:54:26.914512Z"
    }
   },
   "outputs": [],
   "source": [
    "acc = accuracy_score(y_true, predictions)\n",
    "\n",
    "results_all = precision_recall_fscore_support(y_true, predictions, average='macro', zero_division=1)\n",
    "results_class = precision_recall_fscore_support(y_true, predictions, average=None, zero_division=1)\n",
    "\n",
    "metric_columns = ['Precision','Recall', 'F1-Score','S']\n",
    "all_df = pd.concat([pd.DataFrame(list(results_class)).T,pd.DataFrame(list(results_all)).T])\n",
    "all_df.columns = metric_columns\n",
    "all_df.index = classes+['Total']\n",
    "\n",
    "def metrics_plot(df,metric):\n",
    "    plt.figure(figsize=(12,6))\n",
    "    ax = sns.barplot(data=df, x=df.index, y=metric, palette = \"Blues_d\")\n",
    "    #Bar Labels\n",
    "    for p in ax.patches:\n",
    "        ax.annotate(\"%.1f%%\" % (100*p.get_height()), (p.get_x() + p.get_width() / 2., abs(p.get_height())),\n",
    "        ha='center', va='bottom', color='black', xytext=(-3, 5),rotation = 'horizontal',textcoords='offset points')\n",
    "    sns.despine(top=True, right=True, left=True, bottom=False)\n",
    "    ax.set_xlabel('Class',fontsize = 14,weight = 'bold')\n",
    "    ax.set_ylabel(metric,fontsize = 14,weight = 'bold')\n",
    "    ax.set(yticklabels=[])\n",
    "    ax.axes.get_yaxis().set_visible(False) \n",
    "    plt.title(metric+ ' Results per Class', fontsize = 16,weight = 'bold');\n",
    "\n",
    "metrics_plot(all_df, 'Precision')       # Results by Class\n",
    "metrics_plot(all_df, 'Recall')          # Results by Class\n",
    "metrics_plot(all_df, 'F1-Score')         # Results by Class\n",
    "print('----------------- Overall Results -----------------')\n",
    "print('Accuracy Result: %.2f%%'%(acc*100))                   # Accuracy of the whole Dataset\n",
    "print('Precision Result: %.2f%%'%(all_df.iloc[4,0]*100))     # Precision of the whole Dataset\n",
    "print('Recall Result: %.2f%%'%(all_df.iloc[4,1]*100))        # Recall of the whole Dataset"
   ]
  },
  {
   "cell_type": "code",
   "execution_count": null,
   "metadata": {},
   "outputs": [],
   "source": []
  }
 ],
 "metadata": {
  "kernelspec": {
   "display_name": "Python 3",
   "language": "python",
   "name": "python3"
  },
  "language_info": {
   "codemirror_mode": {
    "name": "ipython",
    "version": 3
   },
   "file_extension": ".py",
   "mimetype": "text/x-python",
   "name": "python",
   "nbconvert_exporter": "python",
   "pygments_lexer": "ipython3",
   "version": "3.8.8"
  }
 },
 "nbformat": 4,
 "nbformat_minor": 4
}
